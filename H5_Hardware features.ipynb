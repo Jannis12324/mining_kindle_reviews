{
 "cells": [
  {
   "cell_type": "code",
   "execution_count": 1,
   "metadata": {},
   "outputs": [],
   "source": [
    "import pandas as pd\n",
    "import numpy as np\n",
    "import nltk\n",
    "from nltk import word_tokenize, sent_tokenize\n",
    "from nltk.corpus import stopwords\n",
    "from nltk.stem import LancasterStemmer, WordNetLemmatizer, PorterStemmer\n",
    "from wordcloud import STOPWORDS\n",
    "import re"
   ]
  },
  {
   "cell_type": "code",
   "execution_count": 2,
   "metadata": {},
   "outputs": [],
   "source": [
    "#Only do once if needed (error will show in removing of stopwords when needed)\n",
    "#nltk.download('stopwords')"
   ]
  },
  {
   "cell_type": "code",
   "execution_count": 3,
   "metadata": {},
   "outputs": [],
   "source": [
    "# Loading the data \n",
    "path = 'C:\\\\Users\\\\jjehm\\\\OneDrive\\\\Dokumente\\\\Uni\\\\05_SS 19\\\\Masterarbeit\\\\Daten\\\\Cleaned\\\\all_gr50.csv'\n",
    "df = pd.read_csv(path, dtype={\"kindle\":object})\n",
    "df.drop(df.columns[0],axis=1, inplace=True)\n",
    "figpath = 'C://Users//jjehm//OneDrive//Dokumente//Uni//05_SS 19//Masterarbeit//01_Arbeit//LaTex//Figures//Pandas Figures//'\n",
    "df['kindle'] = df['kindle'].astype(str)\n",
    "df = df[df['kindle'].isin([\"paperwhite 7\", \"8\", \"oasis 9\",\"paperwhite 10\"])]# \n",
    "df.reset_index(inplace=True, drop=True)"
   ]
  },
  {
   "cell_type": "code",
   "execution_count": 5,
   "metadata": {},
   "outputs": [
    {
     "name": "stdout",
     "output_type": "stream",
     "text": [
      "The function bi_dict_analysis is now available.\n",
      " Pass in a data frame and the name of the dicionary (as string with .xlsx) as arguments\n",
      "The dataframe 'df' should be limited to the rows you want to analyze\n",
      "Review text and title will be added in the reviews column\n",
      "words will be: lowered, stop words removed, punctuation and whitespace removed\n",
      "Returns a tuple with the data frame with the added dictionary columns first and column names second\n"
     ]
    }
   ],
   "source": [
    "%run func_bi_dict_analysis.ipynb"
   ]
  },
  {
   "cell_type": "markdown",
   "metadata": {},
   "source": [
    "### Binary dictionary analysis"
   ]
  },
  {
   "cell_type": "code",
   "execution_count": 6,
   "metadata": {},
   "outputs": [
    {
     "name": "stdout",
     "output_type": "stream",
     "text": [
      "Process started:\n",
      "Status: 5.0%\n",
      "Status: 5.0%\n",
      "Status: 10.0%\n",
      "Status: 10.0%\n",
      "Status: 20.0%\n",
      "Status: 40.0%\n",
      "Status: 80.0%\n",
      "Analysis successfull\n"
     ]
    }
   ],
   "source": [
    "(da, column_names) = bi_dict_analysis(df,\"Hardware_features_dict.xlsx\")"
   ]
  },
  {
   "cell_type": "code",
   "execution_count": 7,
   "metadata": {},
   "outputs": [],
   "source": [
    "rdf= da.copy()\n",
    "grdf= rdf.groupby([\"kindle\"]).sum()\n",
    "count = rdf.groupby([\"kindle\"]).count()\n",
    "count.drop(count.columns[1:],axis=1,inplace=True)\n",
    "grdf.drop(grdf.columns[0:3],axis=1,inplace=True)\n",
    "results = grdf\n",
    "#grdf\n"
   ]
  },
  {
   "cell_type": "code",
   "execution_count": 14,
   "metadata": {},
   "outputs": [
    {
     "name": "stdout",
     "output_type": "stream",
     "text": [
      "\\begin{tabular}{lrrrr}\n",
      "\\toprule\n",
      "kindle &  paperwhite 7 &     8 &  oasis 9 &  paperwhite 10 \\\\\n",
      "\\midrule\n",
      "Price                &          1085 &   552 &      363 &            244 \\\\\n",
      "Waterproof           &            57 &    15 &      198 &            388 \\\\\n",
      "Capacity             &            81 &    26 &       54 &            135 \\\\\n",
      "Display              &          3015 &  1172 &      683 &            674 \\\\\n",
      "Resolution           &           331 &    44 &       56 &             39 \\\\\n",
      "Light                &          4043 &  1318 &      516 &            832 \\\\\n",
      "Warm light           &             2 &     1 &        1 &              1 \\\\\n",
      "Automatic brightness &           453 &   120 &       71 &             83 \\\\\n",
      "Page turn buttons    &           714 &   298 &      403 &            231 \\\\\n",
      "Material             &           111 &    55 &       96 &             32 \\\\\n",
      "Connectivity         &           407 &   121 &       80 &            122 \\\\\n",
      "\\bottomrule\n",
      "\\end{tabular}\n",
      "\n"
     ]
    }
   ],
   "source": [
    "latex = grdf.T\n",
    "\n",
    "#moving the paperwhite 7 column to the front for proper order\n",
    "latex = latex[ ['paperwhite 7'] + [ col for col in latex.columns if col != 'paperwhite 7' ] ]\n",
    "latex = latex.astype(int)\n",
    "\n",
    "print (latex.to_latex())"
   ]
  },
  {
   "cell_type": "code",
   "execution_count": 9,
   "metadata": {},
   "outputs": [],
   "source": [
    "#count"
   ]
  },
  {
   "cell_type": "code",
   "execution_count": 10,
   "metadata": {},
   "outputs": [],
   "source": [
    "#calculates the mean rating whether the topic was discussed about or not\n",
    "results = pd.DataFrame()\n",
    "for column in column_names:\n",
    "    zdf = rdf.groupby([column]).mean()\n",
    "    zdf.drop(zdf.columns[1:], axis = 1, inplace = True)\n",
    "    results[column] = zdf.stars\n",
    "\n",
    "#results  "
   ]
  },
  {
   "cell_type": "code",
   "execution_count": 11,
   "metadata": {},
   "outputs": [],
   "source": [
    "#calculates how many times the topics were mentioned across the kindles\n",
    "df = rdf\n",
    "grdf= rdf.groupby([\"kindle\"]).sum()\n",
    "count = rdf.groupby([\"kindle\"]).count()\n",
    "count.drop(count.columns[1:],axis=1,inplace=True)\n",
    "grdf.drop(grdf.columns[0:3],axis=1,inplace=True)\n",
    "\n",
    "#grdf.sum()"
   ]
  },
  {
   "cell_type": "markdown",
   "metadata": {},
   "source": [
    "### Ratings dependend on discussed topic"
   ]
  },
  {
   "cell_type": "code",
   "execution_count": 15,
   "metadata": {},
   "outputs": [
    {
     "name": "stdout",
     "output_type": "stream",
     "text": [
      "\\begin{tabular}{lrrrl}\n",
      "\\toprule\n",
      "Price &  Num. of reviews &   1.0 &   0.0 &                      change \\\\\n",
      "\\midrule\n",
      "Price                &             2244 &  3.65 &  3.84 &  \\textcolor{DarkRed}{-0.19} \\\\\n",
      "Waterproof           &              658 &  4.15 &  3.80 &     \\textcolor{Green}{0.35} \\\\\n",
      "Capacity             &              296 &  4.11 &  3.81 &      \\textcolor{Green}{0.3} \\\\\n",
      "Display              &             5544 &  3.84 &  3.80 &     \\textcolor{Green}{0.04} \\\\\n",
      "Resolution           &              470 &  4.05 &  3.81 &     \\textcolor{Green}{0.24} \\\\\n",
      "Light                &             6709 &  4.25 &  3.46 &     \\textcolor{Green}{0.79} \\\\\n",
      "Warm light           &                5 &  4.20 &  3.81 &     \\textcolor{Green}{0.39} \\\\\n",
      "Automatic brightness &              727 &  3.98 &  3.80 &     \\textcolor{Green}{0.18} \\\\\n",
      "Page turn buttons    &             1646 &  3.74 &  3.82 &  \\textcolor{DarkRed}{-0.08} \\\\\n",
      "Material             &              294 &  3.87 &  3.81 &     \\textcolor{Green}{0.06} \\\\\n",
      "Connectivity         &              730 &  3.53 &  3.83 &   \\textcolor{DarkRed}{-0.3} \\\\\n",
      "\\bottomrule\n",
      "\\end{tabular}\n",
      "\n"
     ]
    }
   ],
   "source": [
    "#generates the table for the latex document\n",
    "table = results.T\n",
    "table[\"Num. of reviews\"] = list(grdf.sum())\n",
    "table[\"Num. of reviews\"] = table[\"Num. of reviews\"].astype(int)\n",
    "table[\"change\"] = round(table[1.0]-table[0.0],2)\n",
    "table[1.0] = round(table[1.0],2)\n",
    "table[0.0] = round(table[0.0],2)\n",
    "table = table[[\"Num. of reviews\", 1.0, 0.0, \"change\"]]\n",
    "\n",
    "def redgreen(num):\n",
    "    if num<0:\n",
    "        return \"\\textcolor{DarkRed}{\"+str(num)+\"}\"\n",
    "    if num>0:\n",
    "        return \"\\textcolor{Green}{\"+str(num)+\"}\"\n",
    "    else:\n",
    "        return str(num)\n",
    "\n",
    "table.change = table.change.apply(lambda x: redgreen(x))\n",
    "print(table.to_latex(escape=False))"
   ]
  },
  {
   "cell_type": "code",
   "execution_count": 13,
   "metadata": {},
   "outputs": [],
   "source": [
    "#rdf.stars.mean()"
   ]
  },
  {
   "cell_type": "code",
   "execution_count": null,
   "metadata": {},
   "outputs": [],
   "source": []
  }
 ],
 "metadata": {
  "kernelspec": {
   "display_name": "Python 3",
   "language": "python",
   "name": "python3"
  },
  "language_info": {
   "codemirror_mode": {
    "name": "ipython",
    "version": 3
   },
   "file_extension": ".py",
   "mimetype": "text/x-python",
   "name": "python",
   "nbconvert_exporter": "python",
   "pygments_lexer": "ipython3",
   "version": "3.8.5"
  }
 },
 "nbformat": 4,
 "nbformat_minor": 2
}
