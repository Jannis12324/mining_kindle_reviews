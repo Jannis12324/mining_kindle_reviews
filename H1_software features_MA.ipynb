{
 "cells": [
  {
   "cell_type": "code",
   "execution_count": 32,
   "metadata": {},
   "outputs": [],
   "source": [
    "import pandas as pd\n",
    "import numpy as np\n",
    "import nltk\n",
    "from nltk import word_tokenize, sent_tokenize\n",
    "from nltk.corpus import stopwords\n",
    "from nltk.stem import LancasterStemmer, WordNetLemmatizer, PorterStemmer\n",
    "from wordcloud import STOPWORDS\n",
    "import re"
   ]
  },
  {
   "cell_type": "code",
   "execution_count": 33,
   "metadata": {},
   "outputs": [],
   "source": [
    "#Only do once if needed (error will show in removing of stopwords when needed)\n",
    "#nltk.download('stopwords')"
   ]
  },
  {
   "cell_type": "code",
   "execution_count": 34,
   "metadata": {},
   "outputs": [],
   "source": [
    "#Loading the data \n",
    "path = 'C:\\\\Users\\\\...\\\\all_gr50.csv'\n",
    "df = pd.read_csv(path, dtype={\"kindle\":object})\n",
    "df.drop(df.columns[0],axis=1, inplace=True)\n",
    "figpath = 'C:\\\\Users\\\\...\\\\Pandas Figures\\\\'\n",
    "df['kindle'] = df['kindle'].astype(str)\n",
    "#Drop all unneeded reviews\n",
    "df = df[df['kindle'].isin([\"paperwhite 7\", \"8\", \"oasis 9\",\"paperwhite 10\"])]# \n",
    "df.reset_index(inplace=True, drop=True)"
   ]
  },
  {
   "cell_type": "markdown",
   "metadata": {},
   "source": [
    "### Binary dictionary analysis"
   ]
  },
  {
   "cell_type": "code",
   "execution_count": null,
   "metadata": {},
   "outputs": [],
   "source": [
    "#Import the method\n",
    "%run function_bi_dict_analysis.ipynb"
   ]
  },
  {
   "cell_type": "code",
   "execution_count": null,
   "metadata": {},
   "outputs": [],
   "source": [
    "#Run the analysis with the imported method\n",
    "(da, column_names) = bi_dict_analysis(df,\"Software_features_dict.xlsx\")"
   ]
  },
  {
   "cell_type": "code",
   "execution_count": 44,
   "metadata": {},
   "outputs": [],
   "source": [
    "#Count how often each dictionary got mentioned\n",
    "rdf= da.copy()\n",
    "grdf= rdf.groupby([\"kindle\"]).sum()\n",
    "count = rdf.groupby([\"kindle\"]).count()\n",
    "count.drop(count.columns[1:],axis=1,inplace=True)\n",
    "grdf.drop(grdf.columns[0:3],axis=1,inplace=True)\n",
    "results = grdf"
   ]
  },
  {
   "cell_type": "code",
   "execution_count": 45,
   "metadata": {},
   "outputs": [],
   "source": [
    "latex = grdf.T\n",
    "#Moving the paperwhite 7 column to the front for proper order\n",
    "latex = latex[ ['paperwhite 7'] + [ col for col in latex.columns if col != 'paperwhite 7' ] ]\n",
    "latex = latex.astype(int)\n",
    "#Print results in a latex formatted way\n",
    "print (latex.to_latex())"
   ]
  },
  {
   "cell_type": "code",
   "execution_count": 48,
   "metadata": {},
   "outputs": [],
   "source": [
    "#Calculates how many times the topics were mentioned across the kindles\n",
    "df = rdf\n",
    "grdf= rdf.groupby([\"kindle\"]).sum()\n",
    "count = rdf.groupby([\"kindle\"]).count()\n",
    "count.drop(count.columns[1:],axis=1,inplace=True)\n",
    "grdf.drop(grdf.columns[0:3],axis=1,inplace=True)\n",
    "print(grdf.sum())"
   ]
  },
  {
   "cell_type": "markdown",
   "metadata": {},
   "source": [
    "### Ratings dependend on discussed topic"
   ]
  },
  {
   "cell_type": "code",
   "execution_count": null,
   "metadata": {},
   "outputs": [],
   "source": [
    "#Calculates the mean rating whether the topic was discussed about or not\n",
    "results = pd.DataFrame()\n",
    "for column in column_names:\n",
    "    zdf = rdf.groupby([column]).mean()\n",
    "    zdf.drop(zdf.columns[1:], axis = 1, inplace = True)\n",
    "    results[column] = zdf.stars"
   ]
  },
  {
   "cell_type": "code",
   "execution_count": 49,
   "metadata": {},
   "outputs": [],
   "source": [
    "#Generates the table for the latex document\n",
    "table = results.T\n",
    "table[\"Num. of reviews\"] = list(grdf.sum())\n",
    "table[\"Num. of reviews\"] = table[\"Num. of reviews\"].astype(int)\n",
    "table[\"change\"] = round(table[1.0]-table[0.0],2)\n",
    "table[1.0] = round(table[1.0],2)\n",
    "table[0.0] = round(table[0.0],2)\n",
    "table = table[[\"Num. of reviews\", 1.0, 0.0, \"change\"]]\n",
    "\n",
    "def redgreen(num):\n",
    "    if num<0:\n",
    "        return \"\\textcolor{DarkRed}{\"+str(num)+\"}\"\n",
    "    if num>0:\n",
    "        return \"\\textcolor{Green}{\"+str(num)+\"}\"\n",
    "    else:\n",
    "        return str(num)\n",
    "\n",
    "table.change = table.change.apply(lambda x: redgreen(x))\n",
    "#print(table.to_latex(escape=False))"
   ]
  },
  {
   "cell_type": "code",
   "execution_count": 50,
   "metadata": {},
   "outputs": [],
   "source": [
    "#Average rating across all reviews\n",
    "print(rdf.stars.mean())"
   ]
  }
 ],
 "metadata": {
  "kernelspec": {
   "display_name": "Python 3",
   "language": "python",
   "name": "python3"
  },
  "language_info": {
   "codemirror_mode": {
    "name": "ipython",
    "version": 3
   },
   "file_extension": ".py",
   "mimetype": "text/x-python",
   "name": "python",
   "nbconvert_exporter": "python",
   "pygments_lexer": "ipython3",
   "version": "3.7.1"
  }
 },
 "nbformat": 4,
 "nbformat_minor": 2
}
